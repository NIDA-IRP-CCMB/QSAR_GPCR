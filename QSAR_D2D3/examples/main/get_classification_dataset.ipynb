{
 "cells": [
  {
   "cell_type": "code",
   "execution_count": 1,
   "metadata": {},
   "outputs": [
    {
     "name": "stdout",
     "output_type": "stream",
     "text": [
      "filters package has been imported!\n"
     ]
    }
   ],
   "source": [
    "import os, sys\n",
    "from pathlib import Path\n",
    "home = str(Path.home())\n",
    "core_dir = home+'/repositories/ai-x/core'\n",
    "sys.path.insert(0, core_dir)\n",
    "selectivity_dir = core_dir + \"/selectivity\"\n",
    "sys.path.insert(0, selectivity_dir)\n",
    "\n",
    "from selectivity import *\n",
    "from sklearn.utils import resample\n"
   ]
  },
  {
   "cell_type": "code",
   "execution_count": 2,
   "metadata": {},
   "outputs": [
    {
     "name": "stdout",
     "output_type": "stream",
     "text": [
      "5.82\n",
      "6.16\n"
     ]
    }
   ],
   "source": [
    "# using previous regression data, get classification data\n",
    "datadir = \"/home/wons2/repositories/ai-DR/models/selectivity_D2D3/selectivity_datasets/C33_0\"\n",
    "ls_models = [\"dataset_D2_antagonist_Ki\", \"dataset_D3_antagonist_Ki\"]\n",
    "\n",
    "for model in ls_models:\n",
    "    path = datadir+model+\"/pubdata0\"\n",
    "    df = get_df(datadir+\"/\"+model+\"/pubdata0\")\n",
    "    df = df.sort_values(by='pKi')\n",
    "    ls_pKi = list(df['pKi'])\n",
    "    p = np.percentile(ls_pKi, 15) \n",
    "    print(p)"
   ]
  },
  {
   "cell_type": "markdown",
   "metadata": {},
   "source": [
    "# C33_200"
   ]
  },
  {
   "cell_type": "code",
   "execution_count": 23,
   "metadata": {},
   "outputs": [],
   "source": [
    "datadir = \"/home/wons2/repositories/ai-DR/models/selectivity_D2D3/selectivity_datasets/C33_200\""
   ]
  },
  {
   "cell_type": "code",
   "execution_count": 73,
   "metadata": {},
   "outputs": [
    {
     "name": "stdout",
     "output_type": "stream",
     "text": [
      "3456 1728 1728 124\n",
      "3434 1717 1717 126\n",
      "3440 1720 1720 122\n",
      "3450 1725 1725 119\n",
      "3438 1719 1719 129\n",
      "3466 1733 1733 112\n",
      "3456 1728 1728 115\n",
      "3470 1735 1735 113\n",
      "3448 1724 1724 128\n",
      "3476 1738 1738 115\n"
     ]
    }
   ],
   "source": [
    "model = \"dataset_D2_antagonist_Ki\"\n",
    "num1 = 5.82\n",
    "num2 = num1+1\n",
    "num_of_val = 10\n",
    "ls_len_nonbinder = []\n",
    "ls_len_binder = []\n",
    "ls_len_val = []\n",
    "ls_len_training = []\n",
    "for i in range(num_of_val):\n",
    "    suffix = str(i)\n",
    "    path = datadir+model+\"/pubdata\"+suffix\n",
    "    df1 = get_df(datadir+\"/\"+model+\"/pubdata\"+suffix)\n",
    "    df1['classification'] = [0 if x < num1 else 1 if num2 < x else np.nan for x in df1['pKi']]\n",
    "    df2 = get_df(datadir+\"/\"+model+\"/val\"+suffix)\n",
    "    df2['classification'] = [0 if x < num1 else 1 if num2 < x else np.nan for x in df2['pKi']]\n",
    "    df2 = df2.dropna(subset=['classification']).reset_index(drop=True)\n",
    "    df_nonbinder = df1[df1['classification'] == 0]\n",
    "    df_binder = df1[df1['classification'] == 1]\n",
    "    ls_len_nonbinder.append(len(df_nonbinder))\n",
    "    ls_len_binder.append(len(df_binder))\n",
    "    ls_len_val.append(len(df2))\n",
    "    df_nonbinder = resample(df_nonbinder, replace=True, n_samples=len(df_binder), random_state=1)\n",
    "    df1 = pd.concat([df_nonbinder, df_binder])\n",
    "    ls_len_training.append(len(df1))\n",
    "    print(len(df1), len(df_nonbinder), len(df_binder), len(df2))\n",
    "    mode = \"class\"\n",
    "    # training dataset\n",
    "    filename = f\"{datadir}/{model}/pubdata_class{suffix}\"\n",
    "    save_file(df1, filename, mode)\n",
    "    # validation dataset\n",
    "    filename = f\"{datadir}/{model}/val_class{suffix}\"\n",
    "    save_file(df2, filename, mode)\n"
   ]
  },
  {
   "cell_type": "code",
   "execution_count": 74,
   "metadata": {},
   "outputs": [
    {
     "name": "stdout",
     "output_type": "stream",
     "text": [
      "3453.4 1726.7 516 120.3\n"
     ]
    }
   ],
   "source": [
    "print(mean(ls_len_training), mean(ls_len_binder), mean(ls_len_nonbinder), mean(ls_len_val))"
   ]
  },
  {
   "cell_type": "code",
   "execution_count": 87,
   "metadata": {},
   "outputs": [
    {
     "name": "stdout",
     "output_type": "stream",
     "text": [
      "2708 1354 1354 152\n",
      "2676 1338 1338 153\n",
      "2700 1350 1350 149\n",
      "2710 1355 1355 146\n",
      "2676 1338 1338 160\n",
      "2724 1362 1362 141\n",
      "2710 1355 1355 146\n",
      "2704 1352 1352 146\n",
      "2706 1353 1353 154\n",
      "2710 1355 1355 157\n"
     ]
    }
   ],
   "source": [
    "model = \"dataset_D3_antagonist_Ki\"\n",
    "num1 = 6.16\n",
    "num2 = num1+1\n",
    "num_of_val = 10\n",
    "ls_len_nonbinder = []\n",
    "ls_len_binder = []\n",
    "ls_len_val = []\n",
    "ls_len_training = []\n",
    "for i in range(num_of_val):\n",
    "    suffix = str(i)\n",
    "    path = datadir+model+\"/pubdata\"+suffix\n",
    "    df1 = get_df(datadir+\"/\"+model+\"/pubdata\"+suffix)\n",
    "    df1 = df1[df1[\"CHEMBL\"] != \"CHEMBL198174\"].reset_index(drop = True)\n",
    "    df1['classification'] = [0 if x < num1 else 1 if num2 < x else np.nan for x in df1['pKi']]\n",
    "    df2 = get_df(datadir+\"/\"+model+\"/val\"+suffix)\n",
    "    df2 = df2[df2[\"CHEMBL\"] != \"CHEMBL198174\"].reset_index(drop = True)\n",
    "    df2['classification'] = [0 if x < num1 else 1 if num2 < x else np.nan for x in df2['pKi']]\n",
    "    df2 = df2.dropna(subset=['classification']).reset_index(drop=True)\n",
    "    df_nonbinder = df1[df1['classification'] == 0]\n",
    "    df_binder = df1[df1['classification'] == 1]\n",
    "    ls_len_nonbinder.append(len(df_nonbinder))\n",
    "    ls_len_binder.append(len(df_binder))\n",
    "    ls_len_val.append(len(df2))\n",
    "    df_nonbinder = resample(df_nonbinder, replace=True, n_samples=len(df_binder), random_state=1)\n",
    "    df1 = pd.concat([df_nonbinder, df_binder])\n",
    "    ls_len_training.append(len(df1))\n",
    "    print(len(df1), len(df_nonbinder), len(df_binder), len(df2))\n",
    "    mode = \"class\"\n",
    "    \n",
    "    # training dataset\n",
    "    filename = f\"{datadir}/{model}/pubdata_class{suffix}\"\n",
    "    save_file(df1, filename, mode)\n",
    "    # validation dataset\n",
    "    filename = f\"{datadir}/{model}/val_class{suffix}\"\n",
    "    save_file(df2, filename, mode)\n"
   ]
  },
  {
   "cell_type": "code",
   "execution_count": 88,
   "metadata": {},
   "outputs": [
    {
     "name": "stdout",
     "output_type": "stream",
     "text": [
      "2702.4 1351.2 323.4 150.4\n"
     ]
    }
   ],
   "source": [
    "print(mean(ls_len_training), mean(ls_len_binder), mean(ls_len_nonbinder), mean(ls_len_val))"
   ]
  },
  {
   "cell_type": "markdown",
   "metadata": {},
   "source": [
    "# C33_200 Selectivity"
   ]
  },
  {
   "cell_type": "code",
   "execution_count": 83,
   "metadata": {},
   "outputs": [
    {
     "name": "stdout",
     "output_type": "stream",
     "text": [
      "1629 467 579 124\n",
      "1629 464 571 135\n",
      "1629 467 589 114\n",
      "1629 453 583 134\n",
      "1629 462 579 129\n",
      "1629 454 591 125\n",
      "1629 455 587 128\n",
      "1629 458 590 122\n",
      "1629 450 594 126\n",
      "1629 457 585 128\n"
     ]
    }
   ],
   "source": [
    "# using previous regression data, get classification data\n",
    "ls_models = [\"dataset__ratio_D3_antagonist_Ki_D2_antagonist_Ki\"]\n",
    "\n",
    "num_of_val = 10\n",
    "num1 = 0\n",
    "num2 = 1\n",
    "\n",
    "ls_len_nonbinder = []\n",
    "ls_len_binder = []\n",
    "ls_len_val = []\n",
    "ls_len_training = []\n",
    "\n",
    "for model in ls_models:\n",
    "    for i in range(num_of_val):\n",
    "        suffix = str(i)\n",
    "        path = datadir+model+\"/pubdata\"+suffix\n",
    "        df1 = get_df(datadir+\"/\"+model+\"/pubdata\"+suffix)\n",
    "        df1['classification'] = [0 if x < num1 else 1 if num2 < x else np.nan for x in df1['pKi']]\n",
    "        df2 = get_df(datadir+\"/\"+model+\"/val\"+suffix)\n",
    "        df2['classification'] = [0 if x < num1 else 1 if num2 < x else np.nan for x in df2['pKi']]\n",
    "        df2 = df2.dropna(subset=['classification']).reset_index(drop=True)\n",
    "        df_nonbinder = df1[df1['classification'] == 0]\n",
    "        df_binder = df1[df1['classification'] == 1]\n",
    "        ls_len_nonbinder.append(len(df_nonbinder))\n",
    "        ls_len_binder.append(len(df_binder))\n",
    "        ls_len_val.append(len(df2))\n",
    "        ls_len_training.append(len(df1))\n",
    "        print(len(df1), len(df_nonbinder), len(df_binder), len(df2))\n",
    "        mode = \"class\"\n",
    "        # training dataset\n",
    "        filename = f\"{datadir}/{model}/pubdata_class{suffix}\"\n",
    "        save_file(df1, filename, mode)\n",
    "        # validation dataset\n",
    "        filename = f\"{datadir}/{model}/val_class{suffix}\"\n",
    "        save_file(df2, filename, mode)"
   ]
  },
  {
   "cell_type": "code",
   "execution_count": 84,
   "metadata": {},
   "outputs": [
    {
     "data": {
      "text/plain": [
       "[579, 571, 589, 583, 579, 591, 587, 590, 594, 585]"
      ]
     },
     "execution_count": 84,
     "metadata": {},
     "output_type": "execute_result"
    }
   ],
   "source": [
    "ls_len_binder"
   ]
  },
  {
   "cell_type": "code",
   "execution_count": 85,
   "metadata": {},
   "outputs": [
    {
     "data": {
      "text/plain": [
       "[467, 464, 467, 453, 462, 454, 455, 458, 450, 457]"
      ]
     },
     "execution_count": 85,
     "metadata": {},
     "output_type": "execute_result"
    }
   ],
   "source": [
    "ls_len_nonbinder"
   ]
  },
  {
   "cell_type": "code",
   "execution_count": 86,
   "metadata": {},
   "outputs": [
    {
     "name": "stdout",
     "output_type": "stream",
     "text": [
      "1629 584.8 458.7 126.5\n"
     ]
    }
   ],
   "source": [
    "print(mean(ls_len_training), mean(ls_len_binder), mean(ls_len_nonbinder), mean(ls_len_val))"
   ]
  },
  {
   "cell_type": "markdown",
   "metadata": {},
   "source": [
    "# Dataset Distribution"
   ]
  },
  {
   "cell_type": "code",
   "execution_count": 11,
   "metadata": {},
   "outputs": [],
   "source": [
    "\n",
    "model = \"dataset_D2_antagonist_Ki\"\n",
    "i = 0\n",
    "\n",
    "suffix = str(i)\n",
    "path = datadir+\"/\"+model+\"/pubdata\"+suffix\n",
    "df1 = get_df(datadir+\"/\"+model+\"/pubdata\"+suffix)\n",
    "\n",
    "\n",
    "# df[(5.5 <= df['pKi'] <= 6.5)]\n"
   ]
  },
  {
   "cell_type": "code",
   "execution_count": 12,
   "metadata": {},
   "outputs": [
    {
     "data": {
      "text/plain": [
       "(94, 614, 2727)"
      ]
     },
     "execution_count": 12,
     "metadata": {},
     "output_type": "execute_result"
    }
   ],
   "source": [
    "num1 = 5\n",
    "num2 = 6\n",
    "\n",
    "len(df1[df1['pKi'] < num1]), len(df1[df1['pKi'].between(num1, num2)]), len(df1[df1['pKi'] > num2])"
   ]
  },
  {
   "cell_type": "code",
   "execution_count": 13,
   "metadata": {},
   "outputs": [
    {
     "data": {
      "text/plain": [
       "(296, 998, 2141)"
      ]
     },
     "execution_count": 13,
     "metadata": {},
     "output_type": "execute_result"
    }
   ],
   "source": [
    "num1 = 5.5\n",
    "num2 = 6.5\n",
    "\n",
    "len(df1[df1['pKi'] < num1]), len(df1[df1['pKi'].between(num1, num2)]), len(df1[df1['pKi'] > num2])"
   ]
  },
  {
   "cell_type": "code",
   "execution_count": 14,
   "metadata": {},
   "outputs": [
    {
     "data": {
      "text/plain": [
       "(686, 1213, 1536)"
      ]
     },
     "execution_count": 14,
     "metadata": {},
     "output_type": "execute_result"
    }
   ],
   "source": [
    "num1 = 6\n",
    "num2 = 7\n",
    "\n",
    "len(df1[df1['pKi'] < num1]), len(df1[df1['pKi'].between(num1, num2)]), len(df1[df1['pKi'] > num2])"
   ]
  },
  {
   "cell_type": "code",
   "execution_count": 15,
   "metadata": {},
   "outputs": [
    {
     "data": {
      "text/plain": [
       "(0, 0, 3435)"
      ]
     },
     "execution_count": 15,
     "metadata": {},
     "output_type": "execute_result"
    }
   ],
   "source": [
    "num1 = -1\n",
    "num2 = 0\n",
    "\n",
    "len(df1[df1['pKi'] < num1]), len(df1[df1['pKi'].between(num1, num2)]), len(df1[df1['pKi'] > num2])"
   ]
  },
  {
   "cell_type": "code",
   "execution_count": 16,
   "metadata": {},
   "outputs": [
    {
     "data": {
      "text/plain": [
       "(0, 0, 3435)"
      ]
     },
     "execution_count": 16,
     "metadata": {},
     "output_type": "execute_result"
    }
   ],
   "source": [
    "num1 = -0.5\n",
    "num2 = 0.5\n",
    "\n",
    "len(df1[df1['pKi'] < num1]), len(df1[df1['pKi'].between(num1, num2)]), len(df1[df1['pKi'] > num2])"
   ]
  },
  {
   "cell_type": "code",
   "execution_count": 17,
   "metadata": {},
   "outputs": [
    {
     "data": {
      "text/plain": [
       "(0, 0, 3435)"
      ]
     },
     "execution_count": 17,
     "metadata": {},
     "output_type": "execute_result"
    }
   ],
   "source": [
    "num1 = -1\n",
    "num2 = -0.5\n",
    "\n",
    "len(df1[df1['pKi'] < num1]), len(df1[df1['pKi'].between(num1, num2)]), len(df1[df1['pKi'] > num2])"
   ]
  },
  {
   "cell_type": "code",
   "execution_count": 18,
   "metadata": {},
   "outputs": [
    {
     "data": {
      "text/plain": [
       "0.12366912366912367"
      ]
     },
     "execution_count": 18,
     "metadata": {},
     "output_type": "execute_result"
    }
   ],
   "source": [
    "302/(302+2140)"
   ]
  },
  {
   "cell_type": "code",
   "execution_count": 19,
   "metadata": {},
   "outputs": [],
   "source": [
    "\n",
    "model = \"dataset_D3_antagonist_Ki\"\n",
    "i = 0\n",
    "\n",
    "suffix = str(i)\n",
    "path = datadir+\"/\"+model+\"/pubdata\"+suffix\n",
    "df1 = get_df(datadir+\"/\"+model+\"/pubdata\"+suffix)\n",
    "\n",
    "\n",
    "# df[(5.5 <= df['pKi'] <= 6.5)]\n"
   ]
  },
  {
   "cell_type": "code",
   "execution_count": 20,
   "metadata": {},
   "outputs": [
    {
     "data": {
      "text/plain": [
       "(43, 222, 1924)"
      ]
     },
     "execution_count": 20,
     "metadata": {},
     "output_type": "execute_result"
    }
   ],
   "source": [
    "num1 = 5\n",
    "num2 = 6\n",
    "\n",
    "len(df1[df1['pKi'] < num1]), len(df1[df1['pKi'].between(num1, num2)]), len(df1[df1['pKi'] > num2])"
   ]
  },
  {
   "cell_type": "code",
   "execution_count": 21,
   "metadata": {},
   "outputs": [
    {
     "data": {
      "text/plain": [
       "(114, 391, 1684)"
      ]
     },
     "execution_count": 21,
     "metadata": {},
     "output_type": "execute_result"
    }
   ],
   "source": [
    "num1 = 5.5\n",
    "num2 = 6.5\n",
    "\n",
    "len(df1[df1['pKi'] < num1]), len(df1[df1['pKi'].between(num1, num2)]), len(df1[df1['pKi'] > num2])"
   ]
  },
  {
   "cell_type": "code",
   "execution_count": 22,
   "metadata": {},
   "outputs": [
    {
     "data": {
      "text/plain": [
       "(261, 492, 1436)"
      ]
     },
     "execution_count": 22,
     "metadata": {},
     "output_type": "execute_result"
    }
   ],
   "source": [
    "num1 = 6\n",
    "num2 = 7\n",
    "\n",
    "len(df1[df1['pKi'] < num1]), len(df1[df1['pKi'].between(num1, num2)]), len(df1[df1['pKi'] > num2])"
   ]
  },
  {
   "cell_type": "code",
   "execution_count": null,
   "metadata": {},
   "outputs": [],
   "source": []
  },
  {
   "cell_type": "code",
   "execution_count": null,
   "metadata": {},
   "outputs": [],
   "source": []
  }
 ],
 "metadata": {
  "kernelspec": {
   "display_name": "Python 3",
   "language": "python",
   "name": "python3"
  },
  "language_info": {
   "codemirror_mode": {
    "name": "ipython",
    "version": 3
   },
   "file_extension": ".py",
   "mimetype": "text/x-python",
   "name": "python",
   "nbconvert_exporter": "python",
   "pygments_lexer": "ipython3",
   "version": "3.7.6"
  }
 },
 "nbformat": 4,
 "nbformat_minor": 5
}
