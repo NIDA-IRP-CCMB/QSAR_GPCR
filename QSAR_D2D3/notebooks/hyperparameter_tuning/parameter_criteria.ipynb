{
 "cells": [
  {
   "cell_type": "code",
   "execution_count": 1,
   "metadata": {},
   "outputs": [
    {
     "name": "stdout",
     "output_type": "stream",
     "text": [
      "Sample of 7000\n",
      "\n"
     ]
    }
   ],
   "source": [
    "import sys, os\n",
    "from pathlib import Path\n",
    "home = str(Path.home())\n",
    "py_dir = home+'/repositories/ai-x/core/parameter_analysis'\n",
    "sys.path.insert(0, py_dir)\n",
    "from parameter_analysis import *\n",
    "import pprint\n",
    "\n",
    "\n",
    "# show multiple outputs\n",
    "from IPython.core.interactiveshell import InteractiveShell\n",
    "InteractiveShell.ast_node_interactivity = 'all'\n",
    "\n",
    "# removes warning\n",
    "import pandas as pd \n",
    "pd.options.mode.chained_assignment = None  # default='warn'\n",
    "\n",
    "output_dir = \"output_dir\"\n",
    "metric = \"R2\"\n",
    "inclements = 0.035\n",
    "\n",
    "modeldir = home+\"/repositories/ai-DR/models/parameter_analysis/models4\"\n",
    "df = get_data(modeldir)"
   ]
  },
  {
   "cell_type": "code",
   "execution_count": 2,
   "metadata": {},
   "outputs": [
    {
     "data": {
      "text/plain": [
       "{'batch_size': [64, 128, 512],\n",
       " 'dropout': [0.0, 0.1, 0.2],\n",
       " 'epochs': [640, 2560, 5120],\n",
       " 'hidden_layers': [5, 6, 8],\n",
       " 'learning_rate': [1e-06, 3.1622776601683788e-06, 1e-05],\n",
       " 'neurons': [5120, 7168, 8192]}"
      ]
     },
     "execution_count": 2,
     "metadata": {},
     "output_type": "execute_result"
    }
   ],
   "source": [
    "dict_para = criteria(df, metric, inclements)\n",
    "dict(sorted(dict_para.items()))"
   ]
  },
  {
   "cell_type": "code",
   "execution_count": 3,
   "metadata": {},
   "outputs": [],
   "source": [
    "# metric = \"R2\"\n",
    "\n",
    "# for run in range(1, 4):\n",
    "#     df = get_data(modeldir, 4)    \n",
    "#     dict_para = criteria(df, metric, inclements)\n",
    "#     pprint.pprint(dict_para)\n",
    "#     if run == 1:\n",
    "#         previous_dict_para = dict_para\n",
    "#     else:\n",
    "#         if previous_dict_para == dict_para:\n",
    "#             print(\"\")\n",
    "#             print(f\"!!MATCH!!: parameters in run {run-1} and run {run} match\")\n",
    "#         else:\n",
    "#             previous_dict_para = dict_para"
   ]
  },
  {
   "cell_type": "markdown",
   "metadata": {},
   "source": [
    "# Subsampling"
   ]
  },
  {
   "cell_type": "code",
   "execution_count": 4,
   "metadata": {},
   "outputs": [],
   "source": [
    "def compute_composite_score(row, weights, maximize, minimize, time_penalty_weight, negative_r2_penalty):\n",
    "    score = 0\n",
    "    for metric in maximize:\n",
    "        score += row[metric] * weights.get(metric, 1)\n",
    "    for metric in minimize:\n",
    "        score -= row[metric] * weights.get(metric, 1)\n",
    "    # Add penalty for longer times\n",
    "    score -= row['time'] * time_penalty_weight\n",
    "    # Add penalty for negative R2\n",
    "    if row['R2'] < 0.5:\n",
    "        score -= negative_r2_penalty\n",
    "    return score\n"
   ]
  },
  {
   "cell_type": "code",
   "execution_count": 5,
   "metadata": {},
   "outputs": [],
   "source": [
    "weights = {\n",
    "    'R2': 2.0,\n",
    "    'RMSE': 1.0\n",
    "}\n",
    "time_penalty_weight = 0.001  \n",
    "negative_r2_penalty = 10.0   \n",
    "maximize = ['R2']\n",
    "minimize = ['RMSE']\n",
    "x_percent = 0.15"
   ]
  },
  {
   "cell_type": "code",
   "execution_count": 6,
   "metadata": {},
   "outputs": [
    {
     "name": "stdout",
     "output_type": "stream",
     "text": [
      "Sample of 7000\n",
      "\n"
     ]
    },
    {
     "data": {
      "text/plain": [
       "0.12316179080849232"
      ]
     },
     "execution_count": 6,
     "metadata": {},
     "output_type": "execute_result"
    }
   ],
   "source": [
    "# Get the current user's home directory\n",
    "modeldir = home+\"/repositories/ai-DR/models/parameter_analysis/models4\"\n",
    "# modeldir = \"/home/wons2/repositories/ai-DR/models/parameter_analysis/models4\"\n",
    "df = get_data(modeldir)\n",
    "metric = \"composite_score\"\n",
    "\n",
    "df['composite_score'] = df.apply(lambda row: compute_composite_score(row, weights, maximize, minimize, time_penalty_weight, negative_r2_penalty), axis=1)\n",
    "df = df.sort_values(by = metric, ascending = False)\n",
    "df = df.reset_index(drop = True)\n",
    "\n",
    "n_top = int(len(df)*x_percent)\n",
    "top_composite_score = max(df[metric].head(n_top))\n",
    "bottom_composite_score = min(df[metric].head(n_top))\n",
    "inclements = top_composite_score - bottom_composite_score\n",
    "inclements"
   ]
  },
  {
   "cell_type": "code",
   "execution_count": 9,
   "metadata": {},
   "outputs": [
    {
     "data": {
      "text/plain": [
       "(0.8598113757075933, 0.7366495848991009)"
      ]
     },
     "execution_count": 9,
     "metadata": {},
     "output_type": "execute_result"
    }
   ],
   "source": [
    "top_composite_score, bottom_composite_score"
   ]
  },
  {
   "cell_type": "code",
   "execution_count": null,
   "metadata": {},
   "outputs": [],
   "source": []
  },
  {
   "cell_type": "code",
   "execution_count": 7,
   "metadata": {},
   "outputs": [
    {
     "data": {
      "text/plain": [
       "{'epochs': [160, 640, 1280],\n",
       " 'hidden_layers': [1, 2],\n",
       " 'neurons': [6144, 7168, 8192],\n",
       " 'learning_rate': [3.1622776601683788e-06, 1e-05, 3.1622776601683795e-05],\n",
       " 'batch_size': [256, 512, 1024],\n",
       " 'dropout': [0.0, 0.1]}"
      ]
     },
     "execution_count": 7,
     "metadata": {},
     "output_type": "execute_result"
    }
   ],
   "source": [
    "dict_para = criteria2(df, \"composite_score\", inclements = inclements)\n",
    "dict_para"
   ]
  },
  {
   "cell_type": "code",
   "execution_count": 8,
   "metadata": {},
   "outputs": [],
   "source": [
    "def subsample2(df, n_sample, n_states, metric, inclements):\n",
    "    all_dict = []\n",
    "    for state in range(0, n_states):\n",
    "        subset_df = df.sample(n_sample, random_state=state)\n",
    "        dict_para = criteria(subset_df, metric, inclements)\n",
    "        all_dict.append(dict_para)\n",
    "    return all_dict\n"
   ]
  },
  {
   "cell_type": "code",
   "execution_count": null,
   "metadata": {},
   "outputs": [],
   "source": []
  },
  {
   "cell_type": "code",
   "execution_count": null,
   "metadata": {},
   "outputs": [],
   "source": []
  },
  {
   "cell_type": "code",
   "execution_count": null,
   "metadata": {},
   "outputs": [],
   "source": []
  },
  {
   "cell_type": "code",
   "execution_count": 4,
   "metadata": {},
   "outputs": [
    {
     "name": "stdout",
     "output_type": "stream",
     "text": [
      "Sample of 7000\n",
      "\n"
     ]
    },
    {
     "data": {
      "text/plain": [
       "{'batch_size': [64, 128, 512],\n",
       " 'dropout': [0.0, 0.1, 0.2],\n",
       " 'epochs': [640, 2560, 5120],\n",
       " 'hidden_layers': [5, 6, 8],\n",
       " 'learning_rate': [1e-06, 3.1622776601683788e-06, 1e-05],\n",
       " 'neurons': [5120, 7168, 8192]}"
      ]
     },
     "execution_count": 4,
     "metadata": {},
     "output_type": "execute_result"
    }
   ],
   "source": [
    "run = 10\n",
    "df = get_data(modeldir, pretreat = False)    \n",
    "dict_para = criteria(df, metric, inclements)\n",
    "dict(sorted(dict_para.items()))"
   ]
  },
  {
   "cell_type": "code",
   "execution_count": 5,
   "metadata": {},
   "outputs": [],
   "source": [
    "run = 10\n",
    "n_states = 100\n",
    "ls_modes = []"
   ]
  },
  {
   "cell_type": "code",
   "execution_count": 6,
   "metadata": {},
   "outputs": [
    {
     "name": "stdout",
     "output_type": "stream",
     "text": [
      "{'batch_size': {'count': 8, 'mode': [(64, 128, 512), (32, 64, 128)]},\n",
      " 'dropout': {'count': 30, 'mode': [(0.0, 0.1, 0.2)]},\n",
      " 'epochs': {'count': 21, 'mode': [(640, 1280, 2560)]},\n",
      " 'hidden_layers': {'count': 11, 'mode': [(1, 4, 6)]},\n",
      " 'learning_rate': {'count': 49,\n",
      "                   'mode': [(1e-06, 3.1622776601683788e-06, 1e-05)]},\n",
      " 'neurons': {'count': 18, 'mode': [(5120, 7168, 8192)]}}\n"
     ]
    }
   ],
   "source": [
    "n_sample = 500\n",
    "\n",
    "all_dict = subsample(df, n_sample, n_states, metric, inclements)\n",
    "modes_result = find_mode_hyperparameters(all_dict)\n",
    "ls_modes.append(modes_result)\n",
    "pprint.pprint(modes_result)"
   ]
  },
  {
   "cell_type": "code",
   "execution_count": 7,
   "metadata": {},
   "outputs": [
    {
     "name": "stdout",
     "output_type": "stream",
     "text": [
      "{'batch_size': {'count': 10, 'mode': [(64, 128, 512)]},\n",
      " 'dropout': {'count': 42, 'mode': [(0.0, 0.1, 0.2)]},\n",
      " 'epochs': {'count': 33, 'mode': [(640, 1280, 2560)]},\n",
      " 'hidden_layers': {'count': 14, 'mode': [(1, 6, 8)]},\n",
      " 'learning_rate': {'count': 61,\n",
      "                   'mode': [(1e-06, 3.1622776601683788e-06, 1e-05)]},\n",
      " 'neurons': {'count': 24, 'mode': [(5120, 7168, 8192)]}}\n"
     ]
    }
   ],
   "source": [
    "n_sample = 1000\n",
    "\n",
    "all_dict = subsample(df, n_sample, n_states, metric, inclements)\n",
    "modes_result = find_mode_hyperparameters(all_dict)\n",
    "ls_modes.append(modes_result)\n",
    "pprint.pprint(modes_result)"
   ]
  },
  {
   "cell_type": "code",
   "execution_count": 8,
   "metadata": {},
   "outputs": [
    {
     "name": "stdout",
     "output_type": "stream",
     "text": [
      "{'batch_size': {'count': 11, 'mode': [(16, 128, 512)]},\n",
      " 'dropout': {'count': 51, 'mode': [(0.0, 0.1, 0.2)]},\n",
      " 'epochs': {'count': 24, 'mode': [(640, 1280, 2560)]},\n",
      " 'hidden_layers': {'count': 19, 'mode': [(1, 6, 8)]},\n",
      " 'learning_rate': {'count': 68,\n",
      "                   'mode': [(1e-06, 3.1622776601683788e-06, 1e-05)]},\n",
      " 'neurons': {'count': 35, 'mode': [(5120, 7168, 8192)]}}\n"
     ]
    }
   ],
   "source": [
    "n_sample = 1500\n",
    "\n",
    "all_dict = subsample(df, n_sample, n_states, metric, inclements)\n",
    "modes_result = find_mode_hyperparameters(all_dict)\n",
    "ls_modes.append(modes_result)\n",
    "pprint.pprint(modes_result)"
   ]
  },
  {
   "cell_type": "code",
   "execution_count": 9,
   "metadata": {},
   "outputs": [
    {
     "name": "stdout",
     "output_type": "stream",
     "text": [
      "{'batch_size': {'count': 14, 'mode': [(16, 128, 512)]},\n",
      " 'dropout': {'count': 61, 'mode': [(0.0, 0.1, 0.2)]},\n",
      " 'epochs': {'count': 24, 'mode': [(640, 1280, 2560)]},\n",
      " 'hidden_layers': {'count': 17, 'mode': [(1, 4, 6)]},\n",
      " 'learning_rate': {'count': 68,\n",
      "                   'mode': [(1e-06, 3.1622776601683788e-06, 1e-05)]},\n",
      " 'neurons': {'count': 39, 'mode': [(5120, 7168, 8192)]}}\n"
     ]
    }
   ],
   "source": [
    "n_sample = 2000\n",
    "\n",
    "all_dict = subsample(df, n_sample, n_states, metric, inclements)\n",
    "modes_result = find_mode_hyperparameters(all_dict)\n",
    "ls_modes.append(modes_result)\n",
    "pprint.pprint(modes_result)"
   ]
  },
  {
   "cell_type": "code",
   "execution_count": 10,
   "metadata": {},
   "outputs": [
    {
     "name": "stdout",
     "output_type": "stream",
     "text": [
      "{'batch_size': {'count': 19, 'mode': [(16, 128, 512), (64, 128, 512)]},\n",
      " 'dropout': {'count': 67, 'mode': [(0.0, 0.1, 0.2)]},\n",
      " 'epochs': {'count': 29, 'mode': [(640, 2560, 5120)]},\n",
      " 'hidden_layers': {'count': 18, 'mode': [(1, 6, 8)]},\n",
      " 'learning_rate': {'count': 71,\n",
      "                   'mode': [(1e-06, 3.1622776601683788e-06, 1e-05)]},\n",
      " 'neurons': {'count': 41, 'mode': [(5120, 6144, 7168)]}}\n"
     ]
    }
   ],
   "source": [
    "n_sample = 2500\n",
    "\n",
    "all_dict = subsample(df, n_sample, n_states, metric, inclements)\n",
    "modes_result = find_mode_hyperparameters(all_dict)\n",
    "ls_modes.append(modes_result)\n",
    "pprint.pprint(modes_result)"
   ]
  },
  {
   "cell_type": "code",
   "execution_count": 11,
   "metadata": {},
   "outputs": [
    {
     "name": "stdout",
     "output_type": "stream",
     "text": [
      "{'batch_size': {'count': 18, 'mode': [(64, 128, 512)]},\n",
      " 'dropout': {'count': 77, 'mode': [(0.0, 0.1, 0.2)]},\n",
      " 'epochs': {'count': 37, 'mode': [(640, 2560, 5120)]},\n",
      " 'hidden_layers': {'count': 16, 'mode': [(5, 6, 8)]},\n",
      " 'learning_rate': {'count': 75,\n",
      "                   'mode': [(1e-06, 3.1622776601683788e-06, 1e-05)]},\n",
      " 'neurons': {'count': 44, 'mode': [(5120, 7168, 8192)]}}\n"
     ]
    }
   ],
   "source": [
    "n_sample = 3000\n",
    "\n",
    "all_dict = subsample(df, n_sample, n_states, metric, inclements)\n",
    "modes_result = find_mode_hyperparameters(all_dict)\n",
    "ls_modes.append(modes_result)\n",
    "pprint.pprint(modes_result)"
   ]
  },
  {
   "cell_type": "code",
   "execution_count": 12,
   "metadata": {},
   "outputs": [
    {
     "name": "stdout",
     "output_type": "stream",
     "text": [
      "{'batch_size': {'count': 25, 'mode': [(16, 128, 512)]},\n",
      " 'dropout': {'count': 82, 'mode': [(0.0, 0.1, 0.2)]},\n",
      " 'epochs': {'count': 38, 'mode': [(640, 2560, 5120)]},\n",
      " 'hidden_layers': {'count': 18, 'mode': [(4, 6, 8)]},\n",
      " 'learning_rate': {'count': 77,\n",
      "                   'mode': [(1e-06, 3.1622776601683788e-06, 1e-05)]},\n",
      " 'neurons': {'count': 53, 'mode': [(5120, 7168, 8192)]}}\n"
     ]
    }
   ],
   "source": [
    "n_sample = 3500\n",
    "\n",
    "all_dict = subsample(df, n_sample, n_states, metric, inclements)\n",
    "modes_result = find_mode_hyperparameters(all_dict)\n",
    "ls_modes.append(modes_result)\n",
    "pprint.pprint(modes_result)"
   ]
  },
  {
   "cell_type": "code",
   "execution_count": 13,
   "metadata": {},
   "outputs": [
    {
     "name": "stdout",
     "output_type": "stream",
     "text": [
      "{'batch_size': {'count': 29, 'mode': [(64, 128, 512)]},\n",
      " 'dropout': {'count': 77, 'mode': [(0.0, 0.1, 0.2)]},\n",
      " 'epochs': {'count': 42, 'mode': [(640, 2560, 5120)]},\n",
      " 'hidden_layers': {'count': 21, 'mode': [(4, 6, 8)]},\n",
      " 'learning_rate': {'count': 82,\n",
      "                   'mode': [(1e-06, 3.1622776601683788e-06, 1e-05)]},\n",
      " 'neurons': {'count': 53, 'mode': [(5120, 7168, 8192)]}}\n"
     ]
    }
   ],
   "source": [
    "n_sample = 4000\n",
    "\n",
    "all_dict = subsample(df, n_sample, n_states, metric, inclements)\n",
    "modes_result = find_mode_hyperparameters(all_dict)\n",
    "ls_modes.append(modes_result)\n",
    "pprint.pprint(modes_result)"
   ]
  },
  {
   "cell_type": "code",
   "execution_count": 14,
   "metadata": {},
   "outputs": [
    {
     "name": "stdout",
     "output_type": "stream",
     "text": [
      "{'batch_size': {'count': 27, 'mode': [(64, 128, 512)]},\n",
      " 'dropout': {'count': 91, 'mode': [(0.0, 0.1, 0.2)]},\n",
      " 'epochs': {'count': 38, 'mode': [(640, 2560, 5120)]},\n",
      " 'hidden_layers': {'count': 24, 'mode': [(5, 6, 8)]},\n",
      " 'learning_rate': {'count': 85,\n",
      "                   'mode': [(1e-06, 3.1622776601683788e-06, 1e-05)]},\n",
      " 'neurons': {'count': 59, 'mode': [(5120, 7168, 8192)]}}\n"
     ]
    }
   ],
   "source": [
    "n_sample = 4500\n",
    "\n",
    "all_dict = subsample(df, n_sample, n_states, metric, inclements)\n",
    "modes_result = find_mode_hyperparameters(all_dict)\n",
    "ls_modes.append(modes_result)\n",
    "pprint.pprint(modes_result)"
   ]
  },
  {
   "cell_type": "code",
   "execution_count": 15,
   "metadata": {},
   "outputs": [
    {
     "name": "stdout",
     "output_type": "stream",
     "text": [
      "{'batch_size': {'count': 35, 'mode': [(64, 128, 512)]},\n",
      " 'dropout': {'count': 91, 'mode': [(0.0, 0.1, 0.2)]},\n",
      " 'epochs': {'count': 44, 'mode': [(640, 2560, 5120)]},\n",
      " 'hidden_layers': {'count': 31, 'mode': [(4, 6, 8)]},\n",
      " 'learning_rate': {'count': 90,\n",
      "                   'mode': [(1e-06, 3.1622776601683788e-06, 1e-05)]},\n",
      " 'neurons': {'count': 57, 'mode': [(5120, 7168, 8192)]}}\n"
     ]
    }
   ],
   "source": [
    "n_sample = 5000\n",
    "\n",
    "all_dict = subsample(df, n_sample, n_states, metric, inclements)\n",
    "modes_result = find_mode_hyperparameters(all_dict)\n",
    "ls_modes.append(modes_result)\n",
    "pprint.pprint(modes_result)"
   ]
  },
  {
   "cell_type": "code",
   "execution_count": 16,
   "metadata": {},
   "outputs": [
    {
     "name": "stdout",
     "output_type": "stream",
     "text": [
      "{'batch_size': {'count': 46, 'mode': [(64, 128, 512)]},\n",
      " 'dropout': {'count': 95, 'mode': [(0.0, 0.1, 0.2)]},\n",
      " 'epochs': {'count': 45, 'mode': [(640, 2560, 5120)]},\n",
      " 'hidden_layers': {'count': 37, 'mode': [(5, 6, 8)]},\n",
      " 'learning_rate': {'count': 98,\n",
      "                   'mode': [(1e-06, 3.1622776601683788e-06, 1e-05)]},\n",
      " 'neurons': {'count': 62, 'mode': [(5120, 7168, 8192)]}}\n"
     ]
    }
   ],
   "source": [
    "n_sample = 5500\n",
    "\n",
    "all_dict = subsample(df, n_sample, n_states, metric, inclements)\n",
    "modes_result = find_mode_hyperparameters(all_dict)\n",
    "ls_modes.append(modes_result)\n",
    "pprint.pprint(modes_result)"
   ]
  },
  {
   "cell_type": "code",
   "execution_count": 17,
   "metadata": {},
   "outputs": [
    {
     "name": "stdout",
     "output_type": "stream",
     "text": [
      "{'batch_size': {'count': 53, 'mode': [(64, 128, 512)]},\n",
      " 'dropout': {'count': 99, 'mode': [(0.0, 0.1, 0.2)]},\n",
      " 'epochs': {'count': 63, 'mode': [(640, 2560, 5120)]},\n",
      " 'hidden_layers': {'count': 41, 'mode': [(5, 6, 8)]},\n",
      " 'learning_rate': {'count': 100,\n",
      "                   'mode': [(1e-06, 3.1622776601683788e-06, 1e-05)]},\n",
      " 'neurons': {'count': 68, 'mode': [(5120, 7168, 8192)]}}\n"
     ]
    }
   ],
   "source": [
    "n_sample = 6000\n",
    "\n",
    "all_dict = subsample(df, n_sample, n_states, metric, inclements)\n",
    "modes_result = find_mode_hyperparameters(all_dict)\n",
    "ls_modes.append(modes_result)\n",
    "pprint.pprint(modes_result)"
   ]
  },
  {
   "cell_type": "code",
   "execution_count": 18,
   "metadata": {},
   "outputs": [
    {
     "name": "stdout",
     "output_type": "stream",
     "text": [
      "{'batch_size': {'count': 56, 'mode': [(64, 128, 512)]},\n",
      " 'dropout': {'count': 100, 'mode': [(0.0, 0.1, 0.2)]},\n",
      " 'epochs': {'count': 65, 'mode': [(640, 2560, 5120)]},\n",
      " 'hidden_layers': {'count': 59, 'mode': [(5, 6, 8)]},\n",
      " 'learning_rate': {'count': 100,\n",
      "                   'mode': [(1e-06, 3.1622776601683788e-06, 1e-05)]},\n",
      " 'neurons': {'count': 88, 'mode': [(5120, 7168, 8192)]}}\n"
     ]
    }
   ],
   "source": [
    "n_sample = 6500\n",
    "\n",
    "all_dict = subsample(df, n_sample, n_states, metric, inclements)\n",
    "modes_result = find_mode_hyperparameters(all_dict)\n",
    "ls_modes.append(modes_result)\n",
    "pprint.pprint(modes_result)"
   ]
  },
  {
   "cell_type": "code",
   "execution_count": 19,
   "metadata": {},
   "outputs": [
    {
     "name": "stdout",
     "output_type": "stream",
     "text": [
      "{'batch_size': {'count': 100, 'mode': [(64, 128, 512)]},\n",
      " 'dropout': {'count': 100, 'mode': [(0.0, 0.1, 0.2)]},\n",
      " 'epochs': {'count': 100, 'mode': [(640, 2560, 5120)]},\n",
      " 'hidden_layers': {'count': 100, 'mode': [(5, 6, 8)]},\n",
      " 'learning_rate': {'count': 100,\n",
      "                   'mode': [(1e-06, 3.1622776601683788e-06, 1e-05)]},\n",
      " 'neurons': {'count': 100, 'mode': [(5120, 7168, 8192)]}}\n"
     ]
    }
   ],
   "source": [
    "n_sample = 7000\n",
    "\n",
    "all_dict = subsample(df, n_sample, n_states, metric, inclements)\n",
    "modes_result = find_mode_hyperparameters(all_dict)\n",
    "ls_modes.append(modes_result)\n",
    "pprint.pprint(modes_result)"
   ]
  },
  {
   "cell_type": "code",
   "execution_count": 20,
   "metadata": {},
   "outputs": [
    {
     "data": {
      "text/plain": [
       "{'batch_size': [(64, 128, 512)],\n",
       " 'dropout': [(0.0, 0.1, 0.2)],\n",
       " 'epochs': [(640, 2560, 5120)],\n",
       " 'hidden_layers': [(5, 6, 8)],\n",
       " 'learning_rate': [(1e-06, 3.1622776601683788e-06, 1e-05)],\n",
       " 'neurons': [(5120, 7168, 8192)]}"
      ]
     },
     "execution_count": 20,
     "metadata": {},
     "output_type": "execute_result"
    }
   ],
   "source": [
    "dict_output = get_majority_voting(ls_modes)\n",
    "dict_output"
   ]
  },
  {
   "cell_type": "code",
   "execution_count": null,
   "metadata": {},
   "outputs": [],
   "source": []
  }
 ],
 "metadata": {
  "kernelspec": {
   "display_name": "Python 3",
   "language": "python",
   "name": "python3"
  },
  "language_info": {
   "codemirror_mode": {
    "name": "ipython",
    "version": 3
   },
   "file_extension": ".py",
   "mimetype": "text/x-python",
   "name": "python",
   "nbconvert_exporter": "python",
   "pygments_lexer": "ipython3",
   "version": "3.7.6"
  }
 },
 "nbformat": 4,
 "nbformat_minor": 4
}
