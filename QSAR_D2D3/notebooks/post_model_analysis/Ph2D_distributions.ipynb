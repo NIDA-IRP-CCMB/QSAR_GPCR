{
 "cells": [
  {
   "cell_type": "code",
   "execution_count": 1,
   "metadata": {
    "ExecuteTime": {
     "end_time": "2023-12-21T19:36:23.387294842Z",
     "start_time": "2023-12-21T19:36:23.175643990Z"
    }
   },
   "outputs": [],
   "source": [
    "import sys, os\n",
    "from pathlib import Path\n",
    "home = str(Path.home())\n",
    "core_dir = home+'/repositories/ai-x/core'\n",
    "sys.path.insert(0, core_dir)\n",
    "\n",
    "from feature_distribution import *\n",
    "output_dir = \"output_dir_consensus\""
   ]
  },
  {
   "cell_type": "code",
   "execution_count": 2,
   "metadata": {},
   "outputs": [
    {
     "name": "stdout",
     "output_type": "stream",
     "text": [
      "The file train_descs_D2.pkl exists.\n",
      "The file train_descs_D3.pkl exists.\n",
      "The file train_descs_D2D3.pkl exists.\n",
      "CPU times: user 472 ms, sys: 275 ms, total: 747 ms\n",
      "Wall time: 993 ms\n"
     ]
    }
   ],
   "source": [
    "%%time\n",
    "df_d2 = get_training_df(\"D2\")\n",
    "df_d3 = get_training_df(\"D3\")\n",
    "df_d2d3 = get_training_df(\"D2D3\")\n",
    "interval = 0.20"
   ]
  },
  {
   "cell_type": "code",
   "execution_count": 3,
   "metadata": {},
   "outputs": [
    {
     "name": "stdout",
     "output_type": "stream",
     "text": [
      "Feature Ph2D_14150 Absent 2017 (0.55) Present 1618 (0.45) Total 3635\n",
      "Feature Ph2D_20761 Absent 2362 (0.65) Present 1273 (0.35) Total 3635\n",
      "Feature Ph2D_16088 Absent 2474 (0.68) Present 1161 (0.32) Total 3635\n"
     ]
    }
   ],
   "source": [
    "ls_features = [\"Ph2D_14150\", \"Ph2D_20761\", \"Ph2D_16088\"]\n",
    "\n",
    "for feature in ls_features:  \n",
    "    xlim = [3.95, 11.05]\n",
    "    save2png = f\"{output_dir}/Ph2D_\"+feature+\".png\"\n",
    "    plot_Ph2D_hist(df_d2, feature, interval, xlim = xlim, save2png = \"\")\n",
    "    plot_Ph2D_hist(df_d2, feature, interval, xlim = xlim, save2png = save2png)"
   ]
  },
  {
   "cell_type": "code",
   "execution_count": 4,
   "metadata": {},
   "outputs": [
    {
     "name": "stdout",
     "output_type": "stream",
     "text": [
      "Feature Ph2D_14150 Absent 1406 (0.59) Present 983 (0.41) Total 2389\n",
      "Feature Ph2D_20761 Absent 1337 (0.56) Present 1052 (0.44) Total 2389\n",
      "Feature Ph2D_16088 Absent 1620 (0.68) Present 769 (0.32) Total 2389\n"
     ]
    }
   ],
   "source": [
    "ls_features = [\"Ph2D_14150\", \"Ph2D_20761\", \"Ph2D_16088\"]\n",
    "\n",
    "for feature in ls_features:  \n",
    "    xlim = [3.95, 11.05]\n",
    "    save2png = f\"{output_dir}/Ph2D_\"+feature+\".png\"\n",
    "    plot_Ph2D_hist(df_d3, feature, interval, xlim = xlim, save2png = \"\")\n",
    "    plot_Ph2D_hist(df_d3, feature, interval, xlim = xlim, save2png = save2png)"
   ]
  },
  {
   "cell_type": "markdown",
   "metadata": {},
   "source": [
    "# Selectivity"
   ]
  },
  {
   "cell_type": "code",
   "execution_count": 5,
   "metadata": {},
   "outputs": [
    {
     "name": "stdout",
     "output_type": "stream",
     "text": [
      "Feature Ph2D_14150 Absent 1053 (0.58) Present 776 (0.42) Total 1829\n",
      "Feature Ph2D_20761 Absent 1127 (0.62) Present 702 (0.38) Total 1829\n",
      "Feature Ph2D_16088 Absent 1164 (0.64) Present 665 (0.36) Total 1829\n"
     ]
    }
   ],
   "source": [
    "ls_features = [\"Ph2D_14150\", \"Ph2D_20761\", \"Ph2D_16088\"]\n",
    "\n",
    "for feature in ls_features:  \n",
    "    xlim = [-3.05, 4.05]\n",
    "    save2png = f\"{output_dir}/Ph2D_\"+feature+\".png\"\n",
    "    plot_Ph2D_hist(df_d2d3, feature, interval, xlim = xlim, save2png = \"\")\n",
    "    plot_Ph2D_hist(df_d2d3, feature, interval, xlim = xlim, save2png = save2png)"
   ]
  }
 ],
 "metadata": {
  "kernelspec": {
   "display_name": "Python 3",
   "language": "python",
   "name": "python3"
  },
  "language_info": {
   "codemirror_mode": {
    "name": "ipython",
    "version": 3
   },
   "file_extension": ".py",
   "mimetype": "text/x-python",
   "name": "python",
   "nbconvert_exporter": "python",
   "pygments_lexer": "ipython3",
   "version": "3.7.6"
  }
 },
 "nbformat": 4,
 "nbformat_minor": 1
}
