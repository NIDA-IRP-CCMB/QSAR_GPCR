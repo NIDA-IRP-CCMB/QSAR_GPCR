{
 "cells": [
  {
   "cell_type": "code",
   "execution_count": 1,
   "metadata": {},
   "outputs": [
    {
     "name": "stdout",
     "output_type": "stream",
     "text": [
      "\n"
     ]
    }
   ],
   "source": [
    "import os, sys\n",
    "scripts_dir = '../scripts'\n",
    "sys.path.insert(0, scripts_dir)\n",
    "\n",
    "from filters_query import *"
   ]
  },
  {
   "cell_type": "markdown",
   "metadata": {},
   "source": [
    "Make sure you have the files \"../conf/assaydefinition_DR_antagonist.txt\" and its agonist counterpart.\n",
    "\n",
    "The function filter_information will filter the data from its large dataframe (xx_d2) into three dataframes (xx_d2_antagonist, xx_d2_agonist, xx_d2_uncaught).\n",
    "\n",
    "1) xx_d2: the entire D2 data, retrieved from the original .tsv file (which was retrieved using the specific TIDs)\n",
    "\n",
    "2) xx_d2_antagonist: using the keyterms from \"../conf/assaydefinition_DR_antagonist.txt\"\n",
    "\n",
    "3) xx_d2_agonist: using the keyterms from assaydefinition_DR_agonist.txt\n",
    "\n",
    "4) xx_d2_uncaught: the remaining rows in xx_d2 that was not caught by the keyterms above\n",
    "\n",
    "How did I get the keyterms to add onto the antagonist and agonist text files? You have the xx_d2_uncaught dataframe. Read the description section of the column, check to see if it indicates whether it's antagonist or agonist, then add accordingly. Rerun the notebook, and try to minimize the \"uncaught\" as much as possible. Have the final list verified by Dr. Shi."
   ]
  },
  {
   "cell_type": "code",
   "execution_count": 2,
   "metadata": {},
   "outputs": [
    {
     "name": "stdout",
     "output_type": "stream",
     "text": [
      "Number of compounds at starting:  29680\n",
      "Number of compounds after confidence score filter:  18077\n",
      "Number of compounds after assay type filter:  17070\n",
      "Number of compounds after Ki / IC50 filter:  9446\n",
      "Number of compounds after standard units filter:  9390\n",
      "Number of compounds after activity relationship type fixes:  8440\n",
      "\n",
      "Total: 8127 , Unique:  589\n",
      "antagonist : 6421 , Unique: 461\n",
      "agonist : 244 , Unique: 23\n",
      "others : 141 , Unique: 20\n",
      "Remaining ones: 1321 , Unique: 85 \n",
      "\n",
      "Number of compounds at starting:  12474\n",
      "Number of compounds after confidence score filter:  8131\n",
      "Number of compounds after assay type filter:  8107\n",
      "Number of compounds after Ki / IC50 filter:  5350\n",
      "Number of compounds after standard units filter:  5341\n",
      "Number of compounds after activity relationship type fixes:  5042\n",
      "\n",
      "Total: 4649 , Unique:  330\n",
      "antagonist : 3488 , Unique: 227\n",
      "agonist : 339 , Unique: 34\n",
      "others : 40 , Unique: 8\n",
      "Remaining ones: 782 , Unique: 61 \n",
      "\n"
     ]
    }
   ],
   "source": [
    "version = 'short' # either \"short\" or \"long\", try each to see how it affects df\n",
    "save = False # saving to excel\n",
    "\n",
    "xx_d2, xx_d2_antagonist, xx_d2_agonist, xx_d2_uncaught = filter_information('D2', version, save_to_excel)\n",
    "xx_d3, xx_d3_antagonist, xx_d3_agonist, xx_d3_uncaught = filter_information('D3', version, save_to_excel)\n",
    "xx = pd.concat([xx_d2, xx_d3])"
   ]
  },
  {
   "cell_type": "code",
   "execution_count": 3,
   "metadata": {},
   "outputs": [
    {
     "data": {
      "text/html": [
       "<div>\n",
       "<style scoped>\n",
       "    .dataframe tbody tr th:only-of-type {\n",
       "        vertical-align: middle;\n",
       "    }\n",
       "\n",
       "    .dataframe tbody tr th {\n",
       "        vertical-align: top;\n",
       "    }\n",
       "\n",
       "    .dataframe thead th {\n",
       "        text-align: right;\n",
       "    }\n",
       "</style>\n",
       "<table border=\"1\" class=\"dataframe\">\n",
       "  <thead>\n",
       "    <tr style=\"text-align: right;\">\n",
       "      <th></th>\n",
       "      <th>description</th>\n",
       "      <th>doi</th>\n",
       "    </tr>\n",
       "  </thead>\n",
       "  <tbody>\n",
       "    <tr>\n",
       "      <th>0</th>\n",
       "      <td>Binding affinity for dopamine D2 receptor</td>\n",
       "      <td>10.1016/j.bmcl.2007.04.098</td>\n",
       "    </tr>\n",
       "    <tr>\n",
       "      <th>1</th>\n",
       "      <td>Binding affinity for dopamine D2 receptor</td>\n",
       "      <td>10.1016/j.bmcl.2007.04.098</td>\n",
       "    </tr>\n",
       "    <tr>\n",
       "      <th>2</th>\n",
       "      <td>Binding affinity for dopamine D2 receptor</td>\n",
       "      <td>10.1016/j.bmcl.2007.04.098</td>\n",
       "    </tr>\n",
       "    <tr>\n",
       "      <th>3</th>\n",
       "      <td>Binding affinity for dopamine D2 receptor</td>\n",
       "      <td>10.1016/j.bmcl.2007.04.098</td>\n",
       "    </tr>\n",
       "    <tr>\n",
       "      <th>4</th>\n",
       "      <td>Binding affinity for dopamine D2 receptor</td>\n",
       "      <td>10.1016/j.bmcl.2007.04.098</td>\n",
       "    </tr>\n",
       "    <tr>\n",
       "      <th>...</th>\n",
       "      <td>...</td>\n",
       "      <td>...</td>\n",
       "    </tr>\n",
       "    <tr>\n",
       "      <th>1457</th>\n",
       "      <td>Binding affinity to dopamine D2</td>\n",
       "      <td>10.1021/jm0611152</td>\n",
       "    </tr>\n",
       "    <tr>\n",
       "      <th>1458</th>\n",
       "      <td>Binding affinity to dopamine D2</td>\n",
       "      <td>10.1021/jm0611152</td>\n",
       "    </tr>\n",
       "    <tr>\n",
       "      <th>1459</th>\n",
       "      <td>Binding affinity to dopamine D2</td>\n",
       "      <td>10.1021/jm0611152</td>\n",
       "    </tr>\n",
       "    <tr>\n",
       "      <th>1460</th>\n",
       "      <td>Binding affinity to dopamine D2</td>\n",
       "      <td>10.1021/jm0611152</td>\n",
       "    </tr>\n",
       "    <tr>\n",
       "      <th>1461</th>\n",
       "      <td>Binding affinity to dopamine D2</td>\n",
       "      <td>10.1021/jm0611152</td>\n",
       "    </tr>\n",
       "  </tbody>\n",
       "</table>\n",
       "<p>1462 rows × 2 columns</p>\n",
       "</div>"
      ],
      "text/plain": [
       "                                    description                         doi\n",
       "0     Binding affinity for dopamine D2 receptor  10.1016/j.bmcl.2007.04.098\n",
       "1     Binding affinity for dopamine D2 receptor  10.1016/j.bmcl.2007.04.098\n",
       "2     Binding affinity for dopamine D2 receptor  10.1016/j.bmcl.2007.04.098\n",
       "3     Binding affinity for dopamine D2 receptor  10.1016/j.bmcl.2007.04.098\n",
       "4     Binding affinity for dopamine D2 receptor  10.1016/j.bmcl.2007.04.098\n",
       "...                                         ...                         ...\n",
       "1457            Binding affinity to dopamine D2           10.1021/jm0611152\n",
       "1458            Binding affinity to dopamine D2           10.1021/jm0611152\n",
       "1459            Binding affinity to dopamine D2           10.1021/jm0611152\n",
       "1460            Binding affinity to dopamine D2           10.1021/jm0611152\n",
       "1461            Binding affinity to dopamine D2           10.1021/jm0611152\n",
       "\n",
       "[1462 rows x 2 columns]"
      ]
     },
     "execution_count": 3,
     "metadata": {},
     "output_type": "execute_result"
    }
   ],
   "source": [
    "short_col = ['description', 'doi']\n",
    "long_col = ['description', 'doi', 'doc_id', 'standard_value', 'standard_units', 'pchembl_value', 'chembl_id', 'canonical_smiles']\n",
    "xx_d2_antagonist[short_col]\n",
    "xx_d2_uncaught[short_col]"
   ]
  },
  {
   "cell_type": "code",
   "execution_count": null,
   "metadata": {},
   "outputs": [],
   "source": []
  }
 ],
 "metadata": {
  "kernelspec": {
   "display_name": "Python 3",
   "language": "python",
   "name": "python3"
  },
  "language_info": {
   "codemirror_mode": {
    "name": "ipython",
    "version": 3
   },
   "file_extension": ".py",
   "mimetype": "text/x-python",
   "name": "python",
   "nbconvert_exporter": "python",
   "pygments_lexer": "ipython3",
   "version": "3.7.12"
  }
 },
 "nbformat": 4,
 "nbformat_minor": 4
}
