{
 "cells": [
  {
   "cell_type": "code",
   "execution_count": 1,
   "metadata": {},
   "outputs": [
    {
     "name": "stdout",
     "output_type": "stream",
     "text": [
      "filters package has been imported!\n",
      "Folder 'output_dir' already exists.\n"
     ]
    }
   ],
   "source": [
    "import os, sys\n",
    "from pathlib import Path\n",
    "home = str(Path.home())\n",
    "core_dir = home+'/repositories/ai-x/core'\n",
    "sys.path.insert(0, core_dir)\n",
    "conf_dir = core_dir+\"/keywords\"\n",
    "sys.path.insert(0, conf_dir)\n",
    "\n",
    "from filters_dop import *\n",
    "import pandas as pd\n",
    "import matplotlib.pyplot as plt \n",
    "# from misc import check_output_dir\n",
    "# output_dir = \"output_dir\"\n",
    "# check_output_dir(output_dir, keep_old = False)\n",
    "\n",
    "def check_output_dir(folder_name):\n",
    "    \"\"\"\n",
    "    Checks if the specified folder exists, and creates it if it doesn't.\n",
    "    \n",
    "    Parameters:\n",
    "    folder_name (str): The name of the folder to check/create.\n",
    "    \"\"\"\n",
    "    if not os.path.exists(folder_name):\n",
    "        os.makedirs(folder_name)\n",
    "        print(f\"Folder '{folder_name}' created.\")\n",
    "    else:\n",
    "        print(f\"Folder '{folder_name}' already exists.\")\n",
    "        \n",
    "check_output_dir(\"output_dir\")"
   ]
  },
  {
   "cell_type": "code",
   "execution_count": 2,
   "metadata": {},
   "outputs": [],
   "source": [
    "class HiddenPrints:\n",
    "    def __enter__(self):\n",
    "        self._original_stdout = sys.stdout\n",
    "        sys.stdout = open(os.devnull, 'w')\n",
    "\n",
    "    def __exit__(self, exc_type, exc_val, exc_tb):\n",
    "        sys.stdout.close()\n",
    "        sys.stdout = self._original_stdout\n",
    "        \n",
    "\n",
    "# Updating this function -- commenting out Bao_Format to inspect it further + not saving dataset\n",
    "def get_filtered_datasets(chembl_tsv_file, standard_type, target, assaydefinition, output_dir, base_name, broad=False,\n",
    "                 before=False):\n",
    "    \"MAIN FUNCTION used in run_filters.py\"\n",
    "    with HiddenPrints():\n",
    "        buffer = read_data(chembl_tsv_file, Verbose=True)\n",
    "        buffer = filter_confidence(buffer, broad, Verbose=True)\n",
    "        buffer = filter_assay_type(buffer, target=target, assaydefinition=assaydefinition, Verbose=True)\n",
    "        if standard_type == \"Ki\":\n",
    "            buffer = filter_affinity(buffer, Verbose=True, keepIC50=False, keepKi=True)\n",
    "        if standard_type == \"IC50\":\n",
    "            buffer = filter_affinity(buffer, Verbose=True, keepIC50=True, keepKi=False)\n",
    "        buffer = filter_units(buffer, Verbose=True)\n",
    "        buffer = filter_exact(buffer, Verbose=True)\n",
    "\n",
    "        if \"D2\" in target or \"D3\" in target:\n",
    "            if assaydefinition == \"agonist\":\n",
    "                keys = [\"agonist\"]\n",
    "            elif assaydefinition == \"antagonist\":\n",
    "                keys = [\"antagonist\"]\n",
    "            elif assaydefinition == \"others\":\n",
    "                keys = [\"others\"]\n",
    "            for key in keys:\n",
    "                filtered_in, filtered_out = filter_assaydefinition(buffer, target, key, Verbose=False)\n",
    "                buffer = filtered_in\n",
    "            print(\"Number of compounds after Displacement Assay filter:\", len(buffer))\n",
    "            print(\"Number of compounds after removing testset 2 compounds:  n/a\")\n",
    "\n",
    "        buffer = filter_year(buffer, target, year=1990, Verbose=True)\n",
    "        #buffer = filter_bao_format(buffer, target, assaydefinition, Verbose=True)\n",
    "        buffer = filter_selected(buffer, target, assaydefinition, Verbose=True)\n",
    "\n",
    "        buffer = filter_small_sets(buffer, Verbose=True, threshold=4)\n",
    "        buffer = filter_salts(buffer, conf_dir, Verbose=True)\n",
    "        buffer = filter_elements(buffer, Verbose=True)\n",
    "        buffer = filter_size(buffer, Verbose=True)\n",
    "        buffer = filter_pchembl_values(buffer, Verbose=True, replace=True)\n",
    "        buffer = filter_weirdos(buffer, Verbose=True)\n",
    "        buffer = deduplicate_mols(buffer, Verbose=True)\n",
    "    print(len(buffer))\n",
    "\n",
    "    return buffer\n",
    "\n",
    "\n",
    "def get_pieChart(_xx, save2png=\"\"):\n",
    "    dict_BAO = {}\n",
    "    dict_format = {}\n",
    "    dict_BAO_to_format = {'BAO_0000219': 'cell-based', 'BAO_0000221': 'tissue-based',\n",
    "                          'BAO_0000357': 'single protein', 'BAO_0000249': 'cell membrane', 'BAO_0000251': 'microsome',\n",
    "                         'BAO_0000019': 'assay'}\n",
    "    dict_colors = {'cell-based': 'lightskyblue', 'tissue-based': 'lightcoral', 'single protein': 'dodgerblue',\n",
    "                   'cell membrane': 'limegreen', 'microsome': 'gold', 'assay': 'orange'}\n",
    "    for BAO in _xx['bao_format'].unique():\n",
    "        num = len(_xx[_xx['bao_format']==BAO])\n",
    "        dict_BAO[BAO] = num\n",
    "        formats = dict_BAO_to_format[BAO]\n",
    "        dict_format[formats] = num\n",
    "    labels = list(dict_format.keys())\n",
    "    values = list(dict_format.values())\n",
    "\n",
    "    def make_autopct(values):\n",
    "        def my_autopct(pct):\n",
    "            total = sum(values)\n",
    "            val = int(round(pct*total/100.0))\n",
    "            return '{p:.0f}%  ({v:d})'.format(p=pct,v=val)\n",
    "        return my_autopct\n",
    "    colours = dict(zip(labels, plt.cm.tab10.colors[:len(labels)]))\n",
    "\n",
    "    ls_colors = []\n",
    "    for label in labels:\n",
    "        ls_colors.append(dict_colors[label])\n",
    "    if save2png:\n",
    "        plt.pie(values, labels=None, colors = ls_colors, autopct=None, textprops={'fontsize': 0})\n",
    "    else:\n",
    "        plt.pie(values, labels=labels, colors = ls_colors, autopct=make_autopct(values), textprops={'fontsize': 13})\n",
    "#     plt.title(title+': BAO Proportions')\n",
    "    fig = plt.gcf()\n",
    "    size = 6\n",
    "    fig.set_size_inches(size, size)\n",
    "    plt.tight_layout()\n",
    "    \n",
    "    if save2png:\n",
    "        plt.savefig(save2png, transparent = True, dpi=300, bbox_inches='tight')\n",
    "    else:\n",
    "        plt.legend(loc = 'upper right', bbox_to_anchor= (1.35,1))\n",
    "\n",
    "    plt.show()"
   ]
  },
  {
   "cell_type": "code",
   "execution_count": 3,
   "metadata": {
    "scrolled": false
   },
   "outputs": [],
   "source": [
    "def get_df(target):\n",
    "    chembl = \"33\"\n",
    "    base_name = 'pubdata'\n",
    "    standard_type = \"Ki\"\n",
    "    assaydefinition = \"antagonist\"\n",
    "\n",
    "    df = pd.DataFrame()\n",
    "    chembl_tsv_file = home+\"/repositories/ai-DR/datasets/\"+f\"pgsql/all_pgsql/chembl{chembl}_{target}.tsv\"\n",
    "    output_dir = f\"new_datasets/C{chembl}/dataset_{target}_{assaydefinition}_{standard_type}\"\n",
    "    df = get_filtered_datasets(chembl_tsv_file, standard_type, target, assaydefinition, output_dir, base_name)\n",
    "    return df"
   ]
  },
  {
   "cell_type": "code",
   "execution_count": null,
   "metadata": {},
   "outputs": [],
   "source": [
    "d2 = get_df(\"D2\")"
   ]
  },
  {
   "cell_type": "code",
   "execution_count": null,
   "metadata": {},
   "outputs": [],
   "source": [
    "d3 = get_df(\"D3\")"
   ]
  },
  {
   "cell_type": "code",
   "execution_count": null,
   "metadata": {},
   "outputs": [],
   "source": [
    "save2png = f\"output_dir/BAO_D2.png\"\n",
    "get_pieChart(d2, save2png=\"\")\n",
    "get_pieChart(d2, save2png)"
   ]
  },
  {
   "cell_type": "code",
   "execution_count": null,
   "metadata": {},
   "outputs": [],
   "source": [
    "save2png = f\"output_dir/BAO_D3.png\"\n",
    "get_pieChart(d3, save2png=\"\")\n",
    "get_pieChart(d3, save2png)"
   ]
  },
  {
   "cell_type": "code",
   "execution_count": null,
   "metadata": {},
   "outputs": [],
   "source": []
  },
  {
   "cell_type": "code",
   "execution_count": null,
   "id": "4447256a",
   "metadata": {},
   "outputs": [],
   "source": []
  }
 ],
 "metadata": {
  "kernelspec": {
   "display_name": "ai",
   "language": "python",
   "name": "python3"
  },
  "language_info": {
   "codemirror_mode": {
    "name": "ipython",
    "version": 3
   },
   "file_extension": ".py",
   "mimetype": "text/x-python",
   "name": "python",
   "nbconvert_exporter": "python",
   "pygments_lexer": "ipython3",
   "version": "3.7.6"
  }
 },
 "nbformat": 4,
 "nbformat_minor": 5
}
